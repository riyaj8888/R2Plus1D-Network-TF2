{
  "nbformat": 4,
  "nbformat_minor": 0,
  "metadata": {
    "accelerator": "GPU",
    "colab": {
      "name": "R2Plus1D.ipynb",
      "provenance": [],
      "collapsed_sections": []
    },
    "kernelspec": {
      "display_name": "Python 3",
      "name": "python3"
    },
    "language_info": {
      "name": "python"
    }
  },
  "cells": [
    {
      "cell_type": "code",
      "metadata": {
        "id": "C6htA3XdqFhd"
      },
      "source": [
        "import tensorflow as tf\n",
        "from tensorflow.keras.layers import ReLU,Conv3D,BatchNormalization,Activation,MaxPooling3D,ZeroPadding3D,AveragePooling3D,Dropout,Input,Dense,Flatten\n",
        "import math"
      ],
      "execution_count": null,
      "outputs": []
    },
    {
      "cell_type": "code",
      "metadata": {
        "id": "tSEJ5l73qW7O"
      },
      "source": [
        "class spatio_temp_conv(tf.keras.layers.Layer):\n",
        "\n",
        "  def __init__(self,filter=None,strides = (None,None,None),k = None,first_conv=False):\n",
        "\n",
        "    super(spatio_temp_conv,self).__init__()\n",
        "\n",
        "    t_stride ,s_stride,s_stride = strides[0],strides[1],strides[2]\n",
        "    t_kernel ,s_kernel = k,k\n",
        "    self.first_conv = first_conv\n",
        "\n",
        "    if self.first_conv:\n",
        "      \n",
        "      filter = 45\n",
        "      self.spatial_conv1 = Conv3D(filters=filter,kernel_size=(1,s_kernel,s_kernel),strides=(1,s_stride,s_stride),padding='same')\n",
        "      self.bn1 = BatchNormalization()\n",
        "      self.act1 = ReLU()\n",
        "\n",
        "      self.temporal_conv1 = Conv3D(filters=filter,kernel_size=(t_kernel,1,1),strides=(t_stride,1,1),padding='same')\n",
        "      self.bn2 = BatchNormalization()\n",
        "      self.act2 =ReLU()\n",
        "\n",
        "    else:\n",
        "\n",
        "      self.filter = filter\n",
        "\n",
        "\n",
        "      self.spatial_conv1 = Conv3D(filters=self.filter,kernel_size=(1,s_kernel,s_kernel),strides=(1,s_stride,s_stride),padding='same')\n",
        "      self.bn1 = BatchNormalization()\n",
        "      self.act1 = ReLU()\n",
        "\n",
        "      self.temporal_conv1 = Conv3D(filters=filter,kernel_size=(t_kernel,1,1),strides=(t_stride,1,1),padding='same')\n",
        "      self.bn2 = BatchNormalization()\n",
        "      self.act2 =ReLU()\n",
        "\n",
        "  def call(self,x):\n",
        "    \n",
        "    if self.first_conv==False:\n",
        "      in_feat_map = x.shape[4]\n",
        "      self.filter = in_feat_map\n",
        "      x = self.act1(self.bn1((self.spatial_conv1(x))))\n",
        "      x = self.act2(self.bn2((self.temporal_conv1(x))))\n",
        "\n",
        "    else:\n",
        "      x = self.act1(self.bn1((self.spatial_conv1(x))))\n",
        "      x = self.act2(self.bn2((self.temporal_conv1(x))))\n",
        "\n",
        "    return x"
      ],
      "execution_count": null,
      "outputs": []
    },
    {
      "cell_type": "code",
      "metadata": {
        "id": "5XV3P3eiHG4k"
      },
      "source": [
        "class spatio_temp_Res_layer(tf.keras.layers.Layer):\n",
        "\n",
        "  def __init__(self,f=None,k = None,downsample=False):\n",
        "\n",
        "    super(spatio_temp_Res_layer,self).__init__()\n",
        "\n",
        "\n",
        "    self.downsample = downsample\n",
        "\n",
        "    if self.downsample:\n",
        "\n",
        "      self.down_con = spatio_temp_conv(filter=f,strides = (1,2,2),k = k)\n",
        "\n",
        "      self.down_bn = BatchNormalization()\n",
        "\n",
        "      self.down_act1 = ReLU()\n",
        "\n",
        "      self.conv1 = spatio_temp_conv(filter=f,strides = (1,1,1),k = k)\n",
        "\n",
        "      self.bn1 = BatchNormalization()\n",
        "\n",
        "      self.act1 = ReLU()\n",
        "\n",
        "      self.conv_skip = spatio_temp_conv(filter=f,strides = (1,2,2),k = 1)\n",
        "\n",
        "      self.skipbn1 = BatchNormalization()\n",
        "\n",
        "      self.skipact1 = ReLU()\n",
        "\n",
        "    else:\n",
        "\n",
        "      self.conv2 = spatio_temp_conv(filter=f,strides = (1,1,1),k = k)\n",
        "\n",
        "      self.bn2 = BatchNormalization()\n",
        "\n",
        "      self.act2 = ReLU()\n",
        "\n",
        "      self.conv3 =  spatio_temp_conv(filter=f,strides = (1,1,1),k = k)\n",
        "\n",
        "      self.bn3 = BatchNormalization()\n",
        "\n",
        "      self.act3 = ReLU()\n",
        "\n",
        "\n",
        "      self.conv4 =  spatio_temp_conv(filter=f,strides = (1,1,1),k = 1)\n",
        "\n",
        "      self.bn4 = BatchNormalization()\n",
        "\n",
        "      self.act4 = ReLU()\n",
        "\n",
        "\n",
        "  def call(self,x):\n",
        "\n",
        "    if self.downsample:\n",
        "\n",
        "      res = self.down_act1(self.down_bn(self.down_con(x)))\n",
        "\n",
        "      res = self.bn1(self.conv1(res))\n",
        "\n",
        "      x = self.skipbn1(self.conv_skip(x))\n",
        "\n",
        "      return self.act1(x+res)\n",
        "\n",
        "    else:\n",
        "\n",
        "      res = self.act2(self.bn2(self.conv2(x)))\n",
        "\n",
        "      res = self.bn3(self.conv3(res))\n",
        "\n",
        "      x = self.bn4(self.conv4(x))\n",
        "\n",
        "      return self.act4(x+res)\n",
        "\n",
        "\n",
        "class SpatialTemporalResBlock(tf.keras.layers.Layer):\n",
        "\n",
        "  def __init__(self,num_of_block=None,filters = None):\n",
        "\n",
        "    super(SpatialTemporalResBlock,self).__init__()\n",
        "\n",
        "    self.num_of_block = num_of_block\n",
        "    self.filters = filters\n",
        "\n",
        "  def call(self,x):\n",
        "\n",
        "    for i in range(self.num_of_block):\n",
        "\n",
        "      x = spatio_temp_Res_layer(f=self.filters,k = 3,downsample=True)(x)\n",
        "\n",
        "    return x\n",
        "\n",
        "\n",
        "\n",
        "\n",
        "class R2Plus1D(tf.keras.layers.Layer):\n",
        "\n",
        "  def __init__(self,num_units=None,num_classes = None):\n",
        "\n",
        "    super(R2Plus1D,self).__init__()\n",
        "\n",
        "    self.conv1 = spatio_temp_conv(filter=64,strides = (1,2,2),k = 5)\n",
        "\n",
        "    self.conv2 = SpatialTemporalResBlock(num_of_block = 2,filters = 128)\n",
        "    self.conv3 = SpatialTemporalResBlock(num_of_block = 2,filters = 256)\n",
        "    self.conv4 = SpatialTemporalResBlock(num_of_block = 2,filters = 512)\n",
        "    self.conv5 = SpatialTemporalResBlock(num_of_block = 2,filters = 1024)\n",
        "\n",
        "    self.pool = AveragePooling3D()\n",
        "    self.flatten = Flatten()\n",
        "    self.dense1 = Dense(num_units)\n",
        "    self.drop1 = Dropout(0.3)\n",
        "    self.dense2 = Dense(num_classes)\n",
        "\n",
        "\n",
        "\n",
        "  def call(self,x):\n",
        "\n",
        "    x = self.conv1(x)\n",
        "    x = self.conv2(x)\n",
        "    x = self.conv3(x)\n",
        "    x = self.conv4(x)\n",
        "    x = self.pool(x)\n",
        "\n",
        "    x = self.flatten(x)\n",
        "    x = self.dense1(x)\n",
        "    x = self.drop1(x)\n",
        "    x = self.dense2(x)\n",
        "\n",
        "    return x\n",
        "\n",
        "\n",
        "\n",
        "\n",
        "def r2plus1_model(shape = None,num_classes=None):\n",
        "\n",
        "  x = Input(shape = shape)\n",
        "\n",
        "  y = R2Plus1D(num_units=2048,num_classes = num_classes)(x)\n",
        "\n",
        "  model = tf.keras.models.Model(inputs = x, outputs = y)\n",
        "\n",
        "  model.summary()\n",
        "\n",
        "  return model\n",
        "\n",
        "\n",
        "\n",
        "\n",
        "\n",
        "\n"
      ],
      "execution_count": null,
      "outputs": []
    },
    {
      "cell_type": "code",
      "metadata": {
        "colab": {
          "base_uri": "https://localhost:8080/"
        },
        "id": "Ao6vcDt1sUBN",
        "outputId": "991674d3-be78-4e28-e2a4-274ed65ff64e"
      },
      "source": [
        "shape = (16,256,256,3)\n",
        "r2plus1_model(shape = shape,num_classes = 11)\n"
      ],
      "execution_count": null,
      "outputs": [
        {
          "output_type": "stream",
          "text": [
            "Model: \"model_12\"\n",
            "_________________________________________________________________\n",
            "Layer (type)                 Output Shape              Param #   \n",
            "=================================================================\n",
            "input_31 (InputLayer)        [(None, 16, 256, 256, 3)] 0         \n",
            "_________________________________________________________________\n",
            "r2_plus1d_21 (R2Plus1D)      (None, 11)                8439115   \n",
            "=================================================================\n",
            "Total params: 8,439,115\n",
            "Trainable params: 8,438,859\n",
            "Non-trainable params: 256\n",
            "_________________________________________________________________\n"
          ],
          "name": "stdout"
        },
        {
          "output_type": "execute_result",
          "data": {
            "text/plain": [
              "<tensorflow.python.keras.engine.functional.Functional at 0x7f5599b1cd50>"
            ]
          },
          "metadata": {
            "tags": []
          },
          "execution_count": 94
        }
      ]
    },
    {
      "cell_type": "code",
      "metadata": {
        "colab": {
          "base_uri": "https://localhost:8080/"
        },
        "id": "gVY8_RSbNDdq",
        "outputId": "c8d869f3-c7c1-41b0-9033-8cc267a23112"
      },
      "source": [
        "strides = (1,2,2)\n",
        "y = spatio_temp_Res_layer(f=128,k = 3,downsample=True)(x)\n",
        "y.shape"
      ],
      "execution_count": null,
      "outputs": [
        {
          "output_type": "execute_result",
          "data": {
            "text/plain": [
              "TensorShape([1, 8, 8, 8, 32])"
            ]
          },
          "metadata": {
            "tags": []
          },
          "execution_count": 28
        }
      ]
    }
  ]
}